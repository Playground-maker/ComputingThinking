{
 "cells": [
  {
   "cell_type": "code",
   "execution_count": null,
   "id": "f3e50184",
   "metadata": {},
   "outputs": [],
   "source": [
    "price = int(input(\"상품의 가격: \"))\n",
    "\n",
    "if price > 20000:\n",
    "    shipping_cost = 0\n",
    "else:\n",
    "    shipping_cost = 3000\n",
    "    \n",
    "print(\"배송비 = \", shipping_cost)    "
   ]
  }
 ],
 "metadata": {
  "kernelspec": {
   "display_name": "Python 3 (ipykernel)",
   "language": "python",
   "name": "python3"
  },
  "language_info": {
   "codemirror_mode": {
    "name": "ipython",
    "version": 3
   },
   "file_extension": ".py",
   "mimetype": "text/x-python",
   "name": "python",
   "nbconvert_exporter": "python",
   "pygments_lexer": "ipython3",
   "version": "3.9.13"
  }
 },
 "nbformat": 4,
 "nbformat_minor": 5
}
